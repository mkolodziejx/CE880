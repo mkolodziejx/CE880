{
  "cells": [
    {
      "cell_type": "markdown",
      "metadata": {
        "id": "view-in-github",
        "colab_type": "text"
      },
      "source": [
        "<a href=\"https://colab.research.google.com/github/mkolodziejx/CE880/blob/main/problem1.ipynb\" target=\"_parent\"><img src=\"https://colab.research.google.com/assets/colab-badge.svg\" alt=\"Open In Colab\"/></a>"
      ]
    },
    {
      "cell_type": "markdown",
      "metadata": {
        "id": "k7JTAG59lC3q"
      },
      "source": [
        "Before you turn this problem in, make sure everything runs as expected. First, **restart the kernel** (in the menubar, select Kernel$\\rightarrow$Restart) and then **run all cells** (in the menubar, select Cell$\\rightarrow$Run All).\n",
        "\n",
        "Make sure you fill in any place that says `YOUR CODE HERE` or \"YOUR ANSWER HERE\", as well as your name and collaborators below:"
      ]
    },
    {
      "cell_type": "code",
      "execution_count": 1,
      "metadata": {
        "id": "c62URi5QlC3y"
      },
      "outputs": [],
      "source": [
        "NAME = \"Martyna Kolodziej\"\n",
        "COLLABORATORS = \"2107187\""
      ]
    },
    {
      "cell_type": "markdown",
      "metadata": {
        "id": "rq3ahy6UlC30"
      },
      "source": [
        "---"
      ]
    },
    {
      "cell_type": "markdown",
      "metadata": {
        "id": "QOXBMssNlC31"
      },
      "source": [
        "---\n",
        "# Welcome to CE880\n",
        "### This is your week-1 : Problem 1 notebook\n",
        "\n",
        "For this problem set, we'll be using the Jupyter notebook and please upload this notebook to [Google Colab](https://colab.research.google.com/). \n"
      ]
    },
    {
      "cell_type": "markdown",
      "metadata": {
        "id": "TSbXu5zGlC32"
      },
      "source": [
        "---\n",
        "## Question 1:\n",
        "\n",
        "Write a function that calculate the area of the square by using the formula as `area = side*side`\n",
        "At last, print the area of the square to get the output."
      ]
    },
    {
      "cell_type": "code",
      "execution_count": 2,
      "metadata": {
        "deletable": false,
        "nbgrader": {
          "cell_type": "code",
          "checksum": "698a900f35ba612f172a84394fc726ac",
          "grade": false,
          "grade_id": "areaofSqr_ans",
          "locked": false,
          "schema_version": 3,
          "solution": true
        },
        "id": "s1ld2pMzlC34"
      },
      "outputs": [],
      "source": [
        "def areaofSqr(side):\n",
        "    \"\"\"Compute the area of squares with side = any number.\n",
        "\n",
        "    \n",
        "    \"\"\"\n",
        "    area = side * side\n",
        "    return area\n",
        "    raise NotImplementedError()"
      ]
    },
    {
      "cell_type": "code",
      "execution_count": 3,
      "metadata": {
        "colab": {
          "base_uri": "https://localhost:8080/"
        },
        "id": "KLV1QIzxlC36",
        "outputId": "6a56f0e1-c9a7-4294-f986-2b790cce4635"
      },
      "outputs": [
        {
          "output_type": "execute_result",
          "data": {
            "text/plain": [
              "100"
            ]
          },
          "metadata": {},
          "execution_count": 3
        }
      ],
      "source": [
        "areaofSqr(10)"
      ]
    },
    {
      "cell_type": "code",
      "execution_count": 4,
      "metadata": {
        "deletable": false,
        "editable": false,
        "nbgrader": {
          "cell_type": "code",
          "checksum": "7262835dec8b43d4ca476e069cfe8e5d",
          "grade": true,
          "grade_id": "areaofSqr_test",
          "locked": false,
          "points": 1,
          "schema_version": 3,
          "solution": false
        },
        "id": "I8UQwlrilC37"
      },
      "outputs": [],
      "source": [
        "\"\"\"Check that squares returns the correct output for several inputs\"\"\"\n",
        "assert areaofSqr(1) == 1\n",
        "assert areaofSqr(2) == 4\n",
        "assert areaofSqr(-3) == 9\n",
        "assert areaofSqr(10) == 100\n",
        "assert areaofSqr(11) == 121"
      ]
    },
    {
      "cell_type": "markdown",
      "metadata": {
        "id": "MookeGTOlC39"
      },
      "source": [
        "---\n",
        "\n",
        "## Question 2:\n",
        "\n",
        "A `trapezoid` is a quadrilateral with two sides parallel. The `trapezoid` is equivalent to the British definition of the `trapezium`. An isosceles `trapezoid` is a `trapezoid` in which the base angles are equal so\n",
        "\n",
        "<img src=\"https://www.w3resource.com/w3r_images/python-math-image-exercise-3.svg\"\n",
        "     alt=\"Markdown Monster icon\"\n",
        "     style=\"float: left; margin-right: 10px;\" />"
      ]
    },
    {
      "cell_type": "code",
      "execution_count": 5,
      "metadata": {
        "deletable": false,
        "nbgrader": {
          "cell_type": "code",
          "checksum": "0b5eb16a2aa5919b3bd20fa36c29d3c3",
          "grade": false,
          "grade_id": "areaofTrap_ans",
          "locked": false,
          "schema_version": 3,
          "solution": true
        },
        "id": "gq3t6BaolC3-"
      },
      "outputs": [],
      "source": [
        "def areaofTrap(base1, base2, height):\n",
        "    \"\"\"Compute the sum of the squares of numbers from 1 to n.\"\"\"\n",
        "    area = ((base1 + base2)/2) * height\n",
        "    return area\n",
        "    raise NotImplementedError()"
      ]
    },
    {
      "cell_type": "code",
      "execution_count": 6,
      "metadata": {
        "colab": {
          "base_uri": "https://localhost:8080/"
        },
        "id": "2juXHgEclC3_",
        "outputId": "bc993594-d315-4057-d441-33be8f901df5"
      },
      "outputs": [
        {
          "output_type": "execute_result",
          "data": {
            "text/plain": [
              "-36.0"
            ]
          },
          "metadata": {},
          "execution_count": 6
        }
      ],
      "source": [
        "areaofTrap(5, 3, -9)"
      ]
    },
    {
      "cell_type": "code",
      "execution_count": 7,
      "metadata": {
        "deletable": false,
        "editable": false,
        "nbgrader": {
          "cell_type": "code",
          "checksum": "7e6d21158f33b7baf1aca9e613c4a775",
          "grade": true,
          "grade_id": "areaofTrap_test",
          "locked": false,
          "points": 1,
          "schema_version": 3,
          "solution": false
        },
        "id": "vs-IFB_ilC4A"
      },
      "outputs": [],
      "source": [
        "\"\"\"Check that areaofTrap returns the correct answer for various inputs.\"\"\"\n",
        "assert areaofTrap(10, 10, 20) == 200.0\n",
        "assert areaofTrap(5, 10, 20) == 150.0\n",
        "assert areaofTrap(5, 3, 5) == 20.0\n",
        "assert areaofTrap(5, 3, -9) == -36.0"
      ]
    },
    {
      "cell_type": "markdown",
      "metadata": {
        "id": "bY9YwBdElC4B"
      },
      "source": [
        "---\n",
        "## Question 3: \n",
        "\n",
        " Write a Python program to reverse a string. Example: Sample String: `1234xyz` Expected Output: `zyx4321`"
      ]
    },
    {
      "cell_type": "code",
      "execution_count": 8,
      "metadata": {
        "deletable": false,
        "nbgrader": {
          "cell_type": "code",
          "checksum": "98cb7a38e7c264c61d0ff0332d879772",
          "grade": false,
          "grade_id": "reversestring_ans",
          "locked": false,
          "schema_version": 3,
          "solution": true,
          "task": false
        },
        "id": "yCSKjNkLlC4C"
      },
      "outputs": [],
      "source": [
        "def reverse_string(str1):\n",
        "    \"\"\"Write your code here to reverse the string\"\"\"\n",
        "    \n",
        "    reverse = str1[::-1]\n",
        "    return reverse \n",
        "    raise NotImplementedError()"
      ]
    },
    {
      "cell_type": "code",
      "execution_count": 9,
      "metadata": {
        "colab": {
          "base_uri": "https://localhost:8080/",
          "height": 35
        },
        "id": "WH7akRNOlC4C",
        "outputId": "d148f429-7730-4439-d3a0-64b6141282bf"
      },
      "outputs": [
        {
          "output_type": "execute_result",
          "data": {
            "application/vnd.google.colaboratory.intrinsic+json": {
              "type": "string"
            },
            "text/plain": [
              "'088EC'"
            ]
          },
          "metadata": {},
          "execution_count": 9
        }
      ],
      "source": [
        "reverse_string('CE880')"
      ]
    },
    {
      "cell_type": "code",
      "execution_count": 10,
      "metadata": {
        "deletable": false,
        "editable": false,
        "nbgrader": {
          "cell_type": "code",
          "checksum": "219d61397ee1726d142cbd4348b06da3",
          "grade": true,
          "grade_id": "reversestring_test",
          "locked": true,
          "points": 1,
          "schema_version": 3,
          "solution": false,
          "task": false
        },
        "id": "R_H5S4RYlC4D"
      },
      "outputs": [],
      "source": [
        "\"\"\"Check that areaofTrap returns the correct answer for various inputs.\"\"\"\n",
        "assert reverse_string('Colchester') == 'retsehcloC'\n",
        "assert reverse_string('University') == 'ytisrevinU'\n",
        "assert reverse_string('Data Science') == 'ecneicS ataD'\n",
        "assert reverse_string('CE880') == '088EC'"
      ]
    },
    {
      "cell_type": "markdown",
      "metadata": {
        "id": "tNSPn2uflC4D"
      },
      "source": [
        "## Question 4:\n",
        "Write a Python program to print the even numbers from a given list.\n",
        "\n",
        "Sample List : `[1, 2, 3, 4, 6, 7, 8, 9]` Expected Result : `[2, 4, 6, 8]`"
      ]
    },
    {
      "cell_type": "code",
      "execution_count": 20,
      "metadata": {
        "deletable": false,
        "nbgrader": {
          "cell_type": "code",
          "checksum": "573c37d40670297aaa0e17563e1ec565",
          "grade": false,
          "grade_id": "even_num_ans",
          "locked": false,
          "schema_version": 3,
          "solution": true,
          "task": false
        },
        "id": "LBKIhsXhlC4E"
      },
      "outputs": [],
      "source": [
        "import numpy as np\n",
        "def even_num(lst_1):\n",
        "    \"\"\"Write a Python program to print the even numbers from a given list.\"\"\"\n",
        "    \n",
        "    even = []\n",
        "    for i in lst_1:\n",
        "      if i % 2 == 0:\n",
        "        even.append(i)\n",
        "    \n",
        "    return even\n",
        "    raise NotImplementedError()"
      ]
    },
    {
      "cell_type": "code",
      "execution_count": 21,
      "metadata": {
        "colab": {
          "base_uri": "https://localhost:8080/"
        },
        "id": "_hOghchslC4E",
        "outputId": "7e0ba084-16b6-49be-9ecd-5506687b205f"
      },
      "outputs": [
        {
          "output_type": "execute_result",
          "data": {
            "text/plain": [
              "[2, 14, 8, 14]"
            ]
          },
          "metadata": {},
          "execution_count": 21
        }
      ],
      "source": [
        "even_num([2, 3, 14, 17, 8, 19, 11, 14])"
      ]
    },
    {
      "cell_type": "code",
      "execution_count": 22,
      "metadata": {
        "deletable": false,
        "editable": false,
        "nbgrader": {
          "cell_type": "code",
          "checksum": "1af9690d1e3eb29b90c5b86873a52282",
          "grade": true,
          "grade_id": "even_num_test",
          "locked": true,
          "points": 1,
          "schema_version": 3,
          "solution": false,
          "task": false
        },
        "id": "YFTswn-tlC4F",
        "colab": {
          "base_uri": "https://localhost:8080/"
        },
        "outputId": "c7d3576f-337b-49a3-f472-38bcd0021b25"
      },
      "outputs": [
        {
          "output_type": "execute_result",
          "data": {
            "text/plain": [
              "False"
            ]
          },
          "metadata": {},
          "execution_count": 22
        }
      ],
      "source": [
        "even_num([1, 2, 3, 4, 6, 7, 8, 9]) == [2, 4, 6, 8]\n",
        "even_num([2, 3, 4, 7, 8, 9, 11, 14]) == [2, 4, 8, 14]\n",
        "even_num([2, 3, 14, 17, 8, 19, 11, 14]) == [ 2,  8, 14]"
      ]
    },
    {
      "cell_type": "markdown",
      "metadata": {
        "id": "nvboTFF_lC4G"
      },
      "source": [
        "## Question 5:\n",
        "Write a Python function to create and print a list where the values are square of numbers between `1` and `n`, where `n` is user defined number: Example `sqr_values(4) == [1, 4, 9]`"
      ]
    },
    {
      "cell_type": "code",
      "execution_count": 19,
      "metadata": {
        "deletable": false,
        "nbgrader": {
          "cell_type": "code",
          "checksum": "5df07d41d1fe24c9357fdc4885a57efd",
          "grade": false,
          "grade_id": "sqr_values_ans",
          "locked": false,
          "schema_version": 3,
          "solution": true,
          "task": false
        },
        "id": "3yFr6vFelC4G"
      },
      "outputs": [],
      "source": [
        "def sqr_values(n):\n",
        "    \"\"\"Write a Python program to print the square of numbers between 1 and `n`\"\"\"\n",
        "    \n",
        "    return [i**2 for i in range(1, n)]\n",
        "    raise NotImplementedError()"
      ]
    },
    {
      "cell_type": "code",
      "execution_count": 20,
      "metadata": {
        "id": "oGMinnZllC4H",
        "colab": {
          "base_uri": "https://localhost:8080/"
        },
        "outputId": "9997fd91-646a-4634-c7d5-e3e56edf77bc"
      },
      "outputs": [
        {
          "output_type": "execute_result",
          "data": {
            "text/plain": [
              "[1, 4, 9]"
            ]
          },
          "metadata": {},
          "execution_count": 20
        }
      ],
      "source": [
        "sqr_values(4)"
      ]
    },
    {
      "cell_type": "code",
      "execution_count": 21,
      "metadata": {
        "deletable": false,
        "editable": false,
        "nbgrader": {
          "cell_type": "code",
          "checksum": "f23bc7d9c871aef82903c5edb35a39ec",
          "grade": true,
          "grade_id": "sqr_values_test",
          "locked": true,
          "points": 1,
          "schema_version": 3,
          "solution": false,
          "task": false
        },
        "id": "tQkd1MWslC4H"
      },
      "outputs": [],
      "source": [
        "\"\"\"Check that sqr_values returns the correct answer for various inputs.\"\"\"\n",
        "assert sqr_values(4) == [1, 4, 9]\n",
        "assert sqr_values(8) == [1, 4, 9, 16, 25, 36, 49]\n",
        "assert sqr_values(9) == [1, 4, 9, 16, 25, 36, 49, 64]\n",
        "assert sqr_values(11) == [1, 4, 9, 16, 25, 36, 49, 64, 81, 100]"
      ]
    },
    {
      "cell_type": "markdown",
      "metadata": {
        "id": "CN-T1GJDlC4I"
      },
      "source": [
        "## Question 6: \n",
        "Write a Python program to generate all permutations of a list in Python.\n",
        "\n",
        "In mathematics, the notion of permutation relates to the act of arranging all the members of a set into some sequence or order, or if the set is already ordered, rearranging (reordering) its elements, a process called permuting. These differ from combinations, which are selections of some members of a set where order is disregarded."
      ]
    },
    {
      "cell_type": "code",
      "execution_count": 25,
      "metadata": {
        "deletable": false,
        "nbgrader": {
          "cell_type": "code",
          "checksum": "833c660c87b9fadf69866d77f50a9291",
          "grade": false,
          "grade_id": "cal_days_ans",
          "locked": false,
          "schema_version": 3,
          "solution": true,
          "task": false
        },
        "id": "_ek1RulNlC4I"
      },
      "outputs": [],
      "source": [
        "import itertools\n",
        "def perm_list(lst):\n",
        "    \"\"\"Write a Python program to calculate number of days between two dates.\"\"\"\n",
        "\n",
        "    pm_list = itertools.permutations(lst)\n",
        "    pm_list = list(pm_list)\n",
        "\n",
        "    return pm_list\n",
        "    raise NotImplementedError()"
      ]
    },
    {
      "cell_type": "code",
      "execution_count": 26,
      "metadata": {
        "id": "KG-vUz8vlC4I",
        "colab": {
          "base_uri": "https://localhost:8080/"
        },
        "outputId": "13a951cd-7a0d-48d6-efbd-3bfeb261d214"
      },
      "outputs": [
        {
          "output_type": "execute_result",
          "data": {
            "text/plain": [
              "[(1, 2, 4), (1, 4, 2), (2, 1, 4), (2, 4, 1), (4, 1, 2), (4, 2, 1)]"
            ]
          },
          "metadata": {},
          "execution_count": 26
        }
      ],
      "source": [
        "perm_list([1,2, 4])"
      ]
    },
    {
      "cell_type": "code",
      "execution_count": 27,
      "metadata": {
        "deletable": false,
        "editable": false,
        "nbgrader": {
          "cell_type": "code",
          "checksum": "a6c26f2cf086aef51c944d4707afc484",
          "grade": true,
          "grade_id": "cal_days_test",
          "locked": true,
          "points": 1,
          "schema_version": 3,
          "solution": false,
          "task": false
        },
        "id": "hltfStwClC4J"
      },
      "outputs": [],
      "source": [
        "assert perm_list([1,2]) == [(1, 2), (2, 1)]\n",
        "assert perm_list([1,2, 4]) == [(1, 2, 4), (1, 4, 2), (2, 1, 4), (2, 4, 1), (4, 1, 2), (4, 2, 1)]"
      ]
    },
    {
      "cell_type": "code",
      "execution_count": null,
      "metadata": {
        "id": "y7qt3CRzlC4J"
      },
      "outputs": [],
      "source": [
        ""
      ]
    }
  ],
  "metadata": {
    "kernelspec": {
      "display_name": "Python 3",
      "language": "python",
      "name": "python3"
    },
    "language_info": {
      "codemirror_mode": {
        "name": "ipython",
        "version": 3
      },
      "file_extension": ".py",
      "mimetype": "text/x-python",
      "name": "python",
      "nbconvert_exporter": "python",
      "pygments_lexer": "ipython3",
      "version": "3.7.11"
    },
    "colab": {
      "name": "problem1.ipynb",
      "provenance": [],
      "collapsed_sections": [],
      "include_colab_link": true
    }
  },
  "nbformat": 4,
  "nbformat_minor": 0
}